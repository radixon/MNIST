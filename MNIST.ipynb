{
 "cells": [
  {
   "cell_type": "code",
   "execution_count": 1,
   "id": "dbabcb31-8f8f-4ccf-acc7-c6e5199ea5fe",
   "metadata": {},
   "outputs": [],
   "source": [
    "import matplotlib.pyplot as plt \n",
    "\n",
    "import torch \n",
    "import torch.nn as nn \n",
    "import torch.nn.functional as F \n",
    "import torch.optim as optim \n",
    "import torch.utils.data \n",
    "from torch.autograd import Variable \n",
    "from torchvision import(\n",
    "    datasets, \n",
    "    transforms, \n",
    "    models, \n",
    "    utils,)"
   ]
  },
  {
   "cell_type": "code",
   "execution_count": 2,
   "id": "96ad76d4-5cb0-4e56-9be0-95557265ae83",
   "metadata": {},
   "outputs": [],
   "source": [
    "# Training Parameters \n",
    "batch_size = 64 \n",
    "learning_rate = 0.01 \n",
    "dropout_p = 0.35 \n",
    "color_scale = 1 \n",
    "num_hidden_units = 50 \n",
    "num_classes = 10 \n",
    "max_grad_norm = 5.0 \n",
    "\n",
    "# Use GPU \n",
    "cuda = True \n",
    "cuda = cuda and torch.cuda.is_available() \n",
    "\n",
    "# Reproduceability \n",
    "seed = 42 \n",
    "torch.manual_seed(seed) \n",
    "if cuda: \n",
    "    torch.cuda.manual_seed(seed)"
   ]
  },
  {
   "cell_type": "code",
   "execution_count": 4,
   "id": "bbf601e7-3c12-47d6-931d-83ba60c04918",
   "metadata": {},
   "outputs": [
    {
     "name": "stderr",
     "output_type": "stream",
     "text": [
      "0.0%"
     ]
    },
    {
     "name": "stdout",
     "output_type": "stream",
     "text": [
      "Downloading http://yann.lecun.com/exdb/mnist/train-images-idx3-ubyte.gz\n",
      "Downloading http://yann.lecun.com/exdb/mnist/train-images-idx3-ubyte.gz to data/mnist\\MNIST\\raw\\train-images-idx3-ubyte.gz\n"
     ]
    },
    {
     "name": "stderr",
     "output_type": "stream",
     "text": [
      "31.0%IOPub message rate exceeded.\n",
      "The Jupyter server will temporarily stop sending output\n",
      "to the client in order to avoid crashing it.\n",
      "To change this limit, set the config variable\n",
      "`--ServerApp.iopub_msg_rate_limit`.\n",
      "\n",
      "Current values:\n",
      "ServerApp.iopub_msg_rate_limit=1000.0 (msgs/sec)\n",
      "ServerApp.rate_limit_window=3.0 (secs)\n",
      "\n",
      "100.0%\n"
     ]
    },
    {
     "name": "stdout",
     "output_type": "stream",
     "text": [
      "Extracting data/mnist\\MNIST\\raw\\train-images-idx3-ubyte.gz to data/mnist\\MNIST\\raw\n"
     ]
    },
    {
     "name": "stderr",
     "output_type": "stream",
     "text": [
      "102.8%"
     ]
    },
    {
     "name": "stdout",
     "output_type": "stream",
     "text": [
      "\n",
      "Downloading http://yann.lecun.com/exdb/mnist/train-labels-idx1-ubyte.gz\n",
      "Downloading http://yann.lecun.com/exdb/mnist/train-labels-idx1-ubyte.gz to data/mnist\\MNIST\\raw\\train-labels-idx1-ubyte.gz\n",
      "Extracting data/mnist\\MNIST\\raw\\train-labels-idx1-ubyte.gz to data/mnist\\MNIST\\raw\n",
      "\n",
      "Downloading http://yann.lecun.com/exdb/mnist/t10k-images-idx3-ubyte.gz\n",
      "Downloading http://yann.lecun.com/exdb/mnist/t10k-images-idx3-ubyte.gz to data/mnist\\MNIST\\raw\\t10k-images-idx3-ubyte.gz\n"
     ]
    },
    {
     "name": "stderr",
     "output_type": "stream",
     "text": [
      "\n",
      "31.1%IOPub message rate exceeded.\n",
      "The Jupyter server will temporarily stop sending output\n",
      "to the client in order to avoid crashing it.\n",
      "To change this limit, set the config variable\n",
      "`--ServerApp.iopub_msg_rate_limit`.\n",
      "\n",
      "Current values:\n",
      "ServerApp.iopub_msg_rate_limit=1000.0 (msgs/sec)\n",
      "ServerApp.rate_limit_window=3.0 (secs)\n",
      "\n"
     ]
    }
   ],
   "source": [
    "train_loader = torch.utils.data.DataLoader(\n",
    "    datasets.MNIST('data/mnist', train=True, download=False, transform=transforms.Compose([transforms.ToTensor(), transforms.Normalize((0.15,), (0.35,)) ])), batch_size=batch_size, shuffle=True) \n",
    "\n",
    "test_loader = torch.utils.data.DataLoader( \n",
    "    datasets.MNIST('data/mnist', train=False, download=False, transform=transforms.Compose([transforms.ToTensor(), transforms.Normalize((0.15,), (0.35,)) ])), batch_size=batch_size, shuffle=True)"
   ]
  },
  {
   "cell_type": "code",
   "execution_count": 5,
   "id": "0fcdedfc-d417-4e87-b01b-09b63ba01b07",
   "metadata": {},
   "outputs": [
    {
     "data": {
      "image/png": "[encoded data removed]",
      "text/plain": [
       "<Figure size 432x288 with 5 Axes>"
      ]
     },
     "metadata": {
      "needs_background": "light"
     },
     "output_type": "display_data"
    }
   ],
   "source": [
    "# Visualize \n",
    "batch = next(iter(test_loader)) \n",
    "samples = batch[0][:5] \n",
    "y_true = batch[1] \n",
    "for i, sample in enumerate(samples): \n",
    "    plt.subplot(1, 5, i+1) \n",
    "    plt.title('Number: %i' % y_true[i]) \n",
    "    plt.imshow(sample.numpy().reshape((28,28))) \n",
    "    plt.axis('off')"
   ]
  },
  {
   "cell_type": "code",
   "execution_count": 10,
   "id": "ad7d6d7e-99ca-4158-acb6-509fcd3c222b",
   "metadata": {},
   "outputs": [],
   "source": [
    "class CNN(nn.Module): \n",
    "    def __init__(self, dropout_p, num_hidden_units, num_classes): \n",
    "        super(CNN, self).__init__() \n",
    "        self.conv1 = nn.Conv2d(color_scale, 10, kernel_size=5) \n",
    "        self.pool1 = nn.MaxPool2d(2,2) \n",
    "        self.conv2 = nn.Conv2d(10, 20, kernel_size=5) \n",
    "        self.dropout_conv2 = nn.Dropout2d(dropout_p) \n",
    "        self.pool2 = nn.MaxPool2d(2,2) \n",
    "        self.fc1 = nn.Linear(20*4*4, num_hidden_units) \n",
    "        self.fc2 = nn.Linear(num_hidden_units, num_classes) \n",
    "        \n",
    "    def forward(self, x_input): \n",
    "        x = self.pool1(F.relu(self.conv1(x_input))) \n",
    "        x = self.dropout_conv2(F.relu(self.pool2(self.conv2(x)))) \n",
    "        x = x.view(-1,20*4*4) \n",
    "        x = F.relu(self.fc1(x)) \n",
    "        x = F.dropout(x, training=self.training) \n",
    "        x = self.fc2(x)\n",
    "        return x"
   ]
  },
  {
   "cell_type": "code",
   "execution_count": 11,
   "id": "b82624e6-c1ae-43f2-a980-5082c648e59f",
   "metadata": {},
   "outputs": [],
   "source": [
    "# Initialize Model \n",
    "cnn = CNN(dropout_p, num_hidden_units, num_classes) \n",
    "if cuda: \n",
    "    cnn.cuda() \n",
    "optimizer = optim.Adagrad(cnn.parameters(), lr = learning_rate) \n",
    "loss_func = torch.nn.CrossEntropyLoss()"
   ]
  },
  {
   "cell_type": "code",
   "execution_count": 18,
   "id": "5542cb09-b2c4-4455-9c73-777eeeca7240",
   "metadata": {},
   "outputs": [],
   "source": [
    "def fit(model, train_loader): \n",
    "    epochs = 5 \n",
    "    model.train() \n",
    "    for epoch in range(epochs): \n",
    "        correct = 0 \n",
    "        for idx, (X_batch, y_batch) in enumerate(train_loader): \n",
    "            var_X_batch = Variable(X_batch).float() \n",
    "            var_y_batch = Variable(y_batch) \n",
    "            optimizer.zero_grad() \n",
    "            y_hat = model(var_X_batch) \n",
    "            loss = loss_func(y_hat, var_y_batch) \n",
    "            loss.backward() \n",
    "            optimizer.step() \n",
    "            \n",
    "            # Total correct predictions \n",
    "            predicted = torch.max(y_hat.data, 1)[1] \n",
    "            correct += (predicted == var_y_batch).sum() \n",
    "            #print(correct) \n",
    "        print('Epoch: {} \\tLoss: {:.6f}\\t Accuracy:{:.3f}%'.format(epoch, loss.data, float(correct*100) / float(batch_size*(idx+1))))"
   ]
  },
  {
   "cell_type": "code",
   "execution_count": 19,
   "id": "0cf4ca5c-b18e-4ea5-81d4-3ac6b23d70d6",
   "metadata": {},
   "outputs": [
    {
     "name": "stdout",
     "output_type": "stream",
     "text": [
      "Epoch: 0 \tLoss: 0.109964\t Accuracy:94.866%\n",
      "Epoch: 1 \tLoss: 0.165609\t Accuracy:95.166%\n",
      "Epoch: 2 \tLoss: 0.293967\t Accuracy:95.219%\n",
      "Epoch: 3 \tLoss: 0.152416\t Accuracy:95.452%\n",
      "Epoch: 4 \tLoss: 0.113577\t Accuracy:95.614%\n"
     ]
    }
   ],
   "source": [
    "fit(cnn,train_loader)"
   ]
  },
  {
   "cell_type": "code",
   "execution_count": 20,
   "id": "5d0fdaed-1933-4bd5-a074-032cdfad3a89",
   "metadata": {},
   "outputs": [],
   "source": [
    "def evaluate(model): \n",
    "    correct = 0 \n",
    "    for test_imgs, test_labels in test_loader: \n",
    "        test_imgs = Variable(test_imgs).float() \n",
    "        y_hat = model(test_imgs) \n",
    "        predicted = torch.max(y_hat,1)[1] \n",
    "        correct += (predicted == test_labels).sum() \n",
    "    print(\"Test accuracy:{:.3f}% \".format( 100 * float(correct) / (len(test_loader)*batch_size)))"
   ]
  },
  {
   "cell_type": "code",
   "execution_count": 21,
   "id": "80faa764-c15b-4795-b34c-334899978912",
   "metadata": {},
   "outputs": [
    {
     "name": "stdout",
     "output_type": "stream",
     "text": [
      "Test accuracy:95.153% \n"
     ]
    }
   ],
   "source": [
    "evaluate(cnn)"
   ]
  },
  {
   "cell_type": "code",
   "execution_count": 22,
   "id": "47b74c9a-e8dd-4062-976f-93e28fb6ddb2",
   "metadata": {},
   "outputs": [],
   "source": [
    "def infer(model,inputs): \n",
    "    if cuda: \n",
    "        inputs = inputs.cuda() \n",
    "    with torch.no_grad(): \n",
    "        X_batch = Variable(inputs, requires_grad=False) \n",
    "        scores = model(X_batch) \n",
    "        score, predicted = torch.max(scores,1) \n",
    "    return predicted"
   ]
  },
  {
   "cell_type": "code",
   "execution_count": 23,
   "id": "c323e846-52aa-4103-beb2-d390daa5a3ad",
   "metadata": {},
   "outputs": [
    {
     "data": {
      "image/png": "[encoded data removed]",
      "text/plain": [
       "<Figure size 432x288 with 10 Axes>"
      ]
     },
     "metadata": {
      "needs_background": "light"
     },
     "output_type": "display_data"
    }
   ],
   "source": [
    "# Visualize Predictions \n",
    "batch = next(iter(test_loader)) \n",
    "samples = batch[0][:10] \n",
    "y_preds = infer(cnn,samples) \n",
    "for i, sample in enumerate(samples): \n",
    "    plt.subplot(1, 10, i+1) \n",
    "    #Use P as symbol for Prediction \n",
    "    plt.title('P: %i' % y_preds[i].data) \n",
    "    plt.imshow(sample.numpy().reshape((28,28))) \n",
    "    plt.axis('off')"
   ]
  },
  {
   "cell_type": "code",
   "execution_count": null,
   "id": "e293ea3b-e144-4801-9ae8-247dc1760edd",
   "metadata": {},
   "outputs": [],
   "source": []
  }
 ],
 "metadata": {
  "kernelspec": {
   "display_name": "Python 3 (ipykernel)",
   "language": "python",
   "name": "python3"
  },
  "language_info": {
   "codemirror_mode": {
    "name": "ipython",
    "version": 3
   },
   "file_extension": ".py",
   "mimetype": "text/x-python",
   "name": "python",
   "nbconvert_exporter": "python",
   "pygments_lexer": "ipython3",
   "version": "3.9.12"
  }
 },
 "nbformat": 4,
 "nbformat_minor": 5
}
