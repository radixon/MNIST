{
 "cells": [
  {
   "cell_type": "code",
   "execution_count": 1,
   "id": "dbabcb31-8f8f-4ccf-acc7-c6e5199ea5fe",
   "metadata": {},
   "outputs": [],
   "source": [
    "import matplotlib.pyplot as plt \n",
    "\n",
    "import torch \n",
    "import torch.nn as nn \n",
    "import torch.nn.functional as F \n",
    "import torch.optim as optim \n",
    "import torch.utils.data \n",
    "from torch.autograd import Variable \n",
    "from torchvision import(\n",
    "    datasets, \n",
    "    transforms, \n",
    "    models, \n",
    "    utils,)"
   ]
  },
  {
   "cell_type": "code",
   "execution_count": 2,
   "id": "96ad76d4-5cb0-4e56-9be0-95557265ae83",
   "metadata": {},
   "outputs": [],
   "source": [
    "# Training Parameters \n",
    "batch_size = 64 \n",
    "learning_rate = 0.01 \n",
    "dropout_p = 0.35 \n",
    "color_scale = 1 \n",
    "num_hidden_units = 50 \n",
    "num_classes = 10 \n",
    "max_grad_norm = 5.0 \n",
    "\n",
    "# Use GPU \n",
    "cuda = torch.cuda.is_available() \n",
    "\n",
    "# Reproduceability \n",
    "seed = 42 \n",
    "torch.manual_seed(seed) \n",
    "if cuda: \n",
    "    torch.cuda.manual_seed(seed)"
   ]
  },
  {
   "cell_type": "code",
   "execution_count": 3,
   "id": "bbf601e7-3c12-47d6-931d-83ba60c04918",
   "metadata": {},
   "outputs": [],
   "source": [
    "train_loader = torch.utils.data.DataLoader(\n",
    "    datasets.MNIST('data/mnist', train=True, download=False, transform=transforms.Compose([transforms.ToTensor(), transforms.Normalize((0.15,), (0.35,)) ])), batch_size=batch_size, shuffle=True) \n",
    "\n",
    "test_loader = torch.utils.data.DataLoader( \n",
    "    datasets.MNIST('data/mnist', train=False, download=False, transform=transforms.Compose([transforms.ToTensor(), transforms.Normalize((0.15,), (0.35,)) ])), batch_size=batch_size, shuffle=True)"
   ]
  },
  {
   "cell_type": "code",
   "execution_count": 4,
   "id": "0fcdedfc-d417-4e87-b01b-09b63ba01b07",
   "metadata": {},
   "outputs": [
    {
     "data": {
      "image/png": "[encoded data removed]",
      "text/plain": [
       "<Figure size 432x288 with 5 Axes>"
      ]
     },
     "metadata": {
      "needs_background": "light"
     },
     "output_type": "display_data"
    }
   ],
   "source": [
    "# Visualize \n",
    "batch = next(iter(test_loader)) \n",
    "samples = batch[0][:5] \n",
    "y_true = batch[1] \n",
    "for i, sample in enumerate(samples): \n",
    "    plt.subplot(1, 5, i+1) \n",
    "    plt.title('Number: %i' % y_true[i]) \n",
    "    plt.imshow(sample.numpy().reshape((28,28))) \n",
    "    plt.axis('off')"
   ]
  },
  {
   "cell_type": "code",
   "execution_count": 5,
   "id": "ad7d6d7e-99ca-4158-acb6-509fcd3c222b",
   "metadata": {},
   "outputs": [],
   "source": [
    "class CNN(nn.Module): \n",
    "    def __init__(self, dropout_p, num_hidden_units, num_classes): \n",
    "        super(CNN, self).__init__() \n",
    "        self.conv1 = nn.Conv2d(color_scale, 10, kernel_size=5) \n",
    "        self.pool1 = nn.MaxPool2d(2,2) \n",
    "        self.conv2 = nn.Conv2d(10, 20, kernel_size=5) \n",
    "        self.dropout_conv2 = nn.Dropout2d(dropout_p) \n",
    "        self.pool2 = nn.MaxPool2d(2,2) \n",
    "        self.fc1 = nn.Linear(20*4*4, num_hidden_units) \n",
    "        self.fc2 = nn.Linear(num_hidden_units, num_classes) \n",
    "        \n",
    "    def forward(self, x_input): \n",
    "        x = self.pool1(F.relu(self.conv1(x_input))) \n",
    "        x = self.dropout_conv2(F.relu(self.pool2(self.conv2(x)))) \n",
    "        x = x.view(-1,20*4*4) \n",
    "        x = F.relu(self.fc1(x)) \n",
    "        x = F.dropout(x, training=self.training) \n",
    "        x = self.fc2(x)\n",
    "        return x"
   ]
  },
  {
   "cell_type": "code",
   "execution_count": 6,
   "id": "b82624e6-c1ae-43f2-a980-5082c648e59f",
   "metadata": {},
   "outputs": [],
   "source": [
    "# Initialize Model \n",
    "cnn = CNN(dropout_p, num_hidden_units, num_classes) \n",
    "if cuda: \n",
    "    cnn.cuda() \n",
    "optimizer = optim.Adagrad(cnn.parameters(), lr = learning_rate) \n",
    "loss_func = torch.nn.CrossEntropyLoss()"
   ]
  },
  {
   "cell_type": "code",
   "execution_count": 7,
   "id": "5542cb09-b2c4-4455-9c73-777eeeca7240",
   "metadata": {},
   "outputs": [],
   "source": [
    "def fit(model, train_loader): \n",
    "    epochs = 5 \n",
    "    model.train() \n",
    "    for epoch in range(epochs): \n",
    "        correct = 0 \n",
    "        for idx, (X_batch, y_batch) in enumerate(train_loader):\n",
    "            if cuda:\n",
    "                X_batch = X_batch.cuda()\n",
    "                y_batch = y_batch.cuda()\n",
    "            var_X_batch = Variable(X_batch).float() \n",
    "            var_y_batch = Variable(y_batch) \n",
    "            optimizer.zero_grad() \n",
    "            y_hat = model(var_X_batch) \n",
    "            loss = loss_func(y_hat, var_y_batch) \n",
    "            loss.backward() \n",
    "            optimizer.step() \n",
    "            \n",
    "            # Total correct predictions \n",
    "            predicted = torch.max(y_hat.data, 1)[1] \n",
    "            correct += (predicted == var_y_batch).sum() \n",
    "            #print(correct) \n",
    "        print('Epoch: {} \\tLoss: {:.6f}\\t Accuracy:{:.3f}%'.format(epoch, loss.data, float(correct*100) / float(batch_size*(idx+1))))"
   ]
  },
  {
   "cell_type": "code",
   "execution_count": 8,
   "id": "0cf4ca5c-b18e-4ea5-81d4-3ac6b23d70d6",
   "metadata": {},
   "outputs": [
    {
     "name": "stdout",
     "output_type": "stream",
     "text": [
      "Epoch: 0 \tLoss: 0.422705\t Accuracy:86.172%\n",
      "Epoch: 1 \tLoss: 0.158410\t Accuracy:92.326%\n",
      "Epoch: 2 \tLoss: 0.304091\t Accuracy:93.658%\n",
      "Epoch: 3 \tLoss: 0.042410\t Accuracy:94.048%\n",
      "Epoch: 4 \tLoss: 0.200602\t Accuracy:94.631%\n"
     ]
    }
   ],
   "source": [
    "fit(cnn,train_loader)"
   ]
  },
  {
   "cell_type": "code",
   "execution_count": 9,
   "id": "5d0fdaed-1933-4bd5-a074-032cdfad3a89",
   "metadata": {},
   "outputs": [],
   "source": [
    "def evaluate(model): \n",
    "    correct = 0 \n",
    "    for test_imgs, test_labels in test_loader:\n",
    "        if cuda:\n",
    "            test_imgs = test_imgs.cuda()\n",
    "            test_labels = test_labels.cuda()\n",
    "        test_imgs = Variable(test_imgs).float() \n",
    "        y_hat = model(test_imgs) \n",
    "        predicted = torch.max(y_hat,1)[1] \n",
    "        correct += (predicted == test_labels).sum() \n",
    "    print(\"Test accuracy:{:.3f}% \".format( 100 * float(correct) / (len(test_loader)*batch_size)))"
   ]
  },
  {
   "cell_type": "code",
   "execution_count": 10,
   "id": "80faa764-c15b-4795-b34c-334899978912",
   "metadata": {},
   "outputs": [
    {
     "name": "stdout",
     "output_type": "stream",
     "text": [
      "Test accuracy:94.616% \n"
     ]
    }
   ],
   "source": [
    "evaluate(cnn)"
   ]
  },
  {
   "cell_type": "code",
   "execution_count": 11,
   "id": "47b74c9a-e8dd-4062-976f-93e28fb6ddb2",
   "metadata": {},
   "outputs": [],
   "source": [
    "def infer(model,inputs): \n",
    "    if cuda: \n",
    "        inputs = inputs.cuda() \n",
    "    with torch.no_grad(): \n",
    "        X_batch = Variable(inputs, requires_grad=False) \n",
    "        scores = model(X_batch) \n",
    "        score, predicted = torch.max(scores,1) \n",
    "    return predicted"
   ]
  },
  {
   "cell_type": "code",
   "execution_count": 12,
   "id": "c323e846-52aa-4103-beb2-d390daa5a3ad",
   "metadata": {},
   "outputs": [
    {
     "data": {
      "image/png": "[encoded data removed]",
      "text/plain": [
       "<Figure size 432x288 with 10 Axes>"
      ]
     },
     "metadata": {
      "needs_background": "light"
     },
     "output_type": "display_data"
    }
   ],
   "source": [
    "# Visualize Predictions \n",
    "batch = next(iter(test_loader)) \n",
    "samples = batch[0][:10] \n",
    "y_preds = infer(cnn,samples) \n",
    "for i, sample in enumerate(samples): \n",
    "    plt.subplot(1, 10, i+1) \n",
    "    #Use P as symbol for Prediction \n",
    "    plt.title('P: %i' % y_preds[i].data) \n",
    "    plt.imshow(sample.numpy().reshape((28,28))) \n",
    "    plt.axis('off')"
   ]
  },
  {
   "cell_type": "code",
   "execution_count": null,
   "id": "250ba91e-1751-43a9-8695-f35e7998e141",
   "metadata": {},
   "outputs": [],
   "source": []
  }
 ],
 "metadata": {
  "kernelspec": {
   "display_name": "Python 3 (ipykernel)",
   "language": "python",
   "name": "python3"
  },
  "language_info": {
   "codemirror_mode": {
    "name": "ipython",
    "version": 3
   },
   "file_extension": ".py",
   "mimetype": "text/x-python",
   "name": "python",
   "nbconvert_exporter": "python",
   "pygments_lexer": "ipython3",
   "version": "3.9.12"
  }
 },
 "nbformat": 4,
 "nbformat_minor": 5
}
